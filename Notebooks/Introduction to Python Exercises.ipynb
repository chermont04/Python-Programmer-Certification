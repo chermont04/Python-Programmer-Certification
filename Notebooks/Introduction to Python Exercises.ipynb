{
 "cells": [
  {
   "cell_type": "markdown",
   "id": "0cd6b602",
   "metadata": {},
   "source": [
    "### Collections in Python"
   ]
  },
  {
   "cell_type": "markdown",
   "id": "5716c6ef",
   "metadata": {},
   "source": [
    "#### Exercises\n",
    "\n",
    "1. Write a Python function proper_divisors(num) which returns a list of all proper divisors of given number\n",
    "\n",
    "2. Write a Python function generate_fibanacci(n) to return a list of first n Fibonacci numbers\n",
    "\n",
    "3. Write a Python program to generate the next 15 leap years starting from a given year.\n",
    "\n",
    "4. Given a string contaning uppercase characters (A-Z) compress the string using Rin Length encoding. Repetition of characters has to be replaced by storing the lenght of that run.\n",
    "    Write a python function encode(message) which performs the run lenght encoding for a given String and returns the run lenght encoded string.\n",
    "    \n",
    "    example: message = AAAABBBBCCCCCCCC output = 4A4B8C\n",
    "    \n",
    "5. Represent a small billingual (English_Swedish) glossary given below as a python dictionary.\n",
    "\n",
    "    {\"merry\":\"god\", \"christmas:\":\"jul\", \"and\":\"och\", \"happy\":\"gott\", \"new\":\"nytt\", \"year\":\"ar\"}\n",
    "    \n",
    "     use it to translate your christmas wishes from English to Swedish."
   ]
  },
  {
   "cell_type": "markdown",
   "id": "6ba3e47f",
   "metadata": {},
   "source": [
    "Exercise 1"
   ]
  },
  {
   "cell_type": "code",
   "execution_count": 10,
   "id": "247cd9a9",
   "metadata": {},
   "outputs": [
    {
     "name": "stdout",
     "output_type": "stream",
     "text": [
      "[110, 55, 44, 22, 20, 11, 10, 5, 4, 2]\n"
     ]
    }
   ],
   "source": [
    "# creating the function\n",
    "def proper_divisors(num):\n",
    "    proper_divisors = []\n",
    "    aux = num-1\n",
    "    while aux > 1:\n",
    "        if num % aux == 0:\n",
    "            proper_divisors.append(aux)\n",
    "        aux = aux - 1\n",
    "    return proper_divisors\n",
    "\n",
    "# calling the function\n",
    "results = proper_divisors(220)\n",
    "#printing the results\n",
    "print(results)"
   ]
  },
  {
   "cell_type": "markdown",
   "id": "3a972380",
   "metadata": {},
   "source": [
    "Exercise 2"
   ]
  },
  {
   "cell_type": "code",
   "execution_count": 27,
   "id": "e72901f9",
   "metadata": {},
   "outputs": [
    {
     "name": "stdout",
     "output_type": "stream",
     "text": [
      "[0, 1, 1, 2, 3, 5, 8, 13, 21, 34]\n"
     ]
    }
   ],
   "source": [
    "# Creating the function\n",
    "def generate_fibanacci(n):\n",
    "    sequence = [0,1]\n",
    "    while n != 2:\n",
    "        aux = sequence[-1] + sequence[-2]\n",
    "        sequence.append(aux)\n",
    "        n = n - 1\n",
    "    return sequence\n",
    "\n",
    "#calling the function\n",
    "results = generate_fibanacci(10)\n",
    "#printing the results\n",
    "print(results)"
   ]
  },
  {
   "cell_type": "markdown",
   "id": "dd2b7588",
   "metadata": {},
   "source": [
    "Exercise 3"
   ]
  },
  {
   "cell_type": "code",
   "execution_count": 32,
   "id": "f7047673",
   "metadata": {},
   "outputs": [
    {
     "name": "stdout",
     "output_type": "stream",
     "text": [
      "4A4B8C\n"
     ]
    }
   ],
   "source": [
    "#creating the function\n",
    "def encode(message):\n",
    "    message = message.upper()\n",
    "    encoded_message = \"\"\n",
    "    i = 0\n",
    "    while(i <= len(message) - 1):\n",
    "        count = 1\n",
    "        ch=message[i]\n",
    "        j = i\n",
    "        while(j < len(message) - 1):\n",
    "            if (message[j] == message[j+1]):\n",
    "                count = count + 1\n",
    "                j = j + 1\n",
    "            else:\n",
    "                break\n",
    "        encoded_message = encoded_message+str(count)+ch\n",
    "        i = j + 1\n",
    "        \n",
    "    return encoded_message\n",
    "\n",
    "#calling the function\n",
    "results = encode(\"AAAABBBBCCCCCCCC\")\n",
    "print(results)"
   ]
  },
  {
   "cell_type": "markdown",
   "id": "c1e056d7",
   "metadata": {},
   "source": [
    "Exercise 5"
   ]
  },
  {
   "cell_type": "code",
   "execution_count": 97,
   "id": "e939ca1b",
   "metadata": {},
   "outputs": [
    {
     "name": "stdout",
     "output_type": "stream",
     "text": [
      "['merry', 'christmas', 'and', 'happy', 'new', 'year']\n",
      "['god', 'jul', 'och', 'gott', 'nytt', 'ar']\n"
     ]
    }
   ],
   "source": [
    "# seting the dictionary\n",
    "translator_dict = {\"merry\":\"god\", \"christmas\":\"jul\", \"and\":\"och\", \"happy\":\"gott\", \"new\":\"nytt\", \"year\":\"ar\"}\n",
    "\n",
    "whishes = [\"merry\", \"christmas\", \"and\", \"happy\", \"new\", \"year\"]\n",
    "# creating the function\n",
    "def translator(b_dict, list_words):\n",
    "    swedish_whish = []\n",
    "    for word in list_words:\n",
    "        swedish_whish.append(b_dict.get(word))\n",
    "    return swedish_whish\n",
    "\n",
    "#calling the function\n",
    "results = translator(translator_dict, whishes)\n",
    "print(whishes)\n",
    "print(results)"
   ]
  },
  {
   "cell_type": "markdown",
   "id": "a6a40509",
   "metadata": {},
   "source": [
    "### Libraries and builtin functions in Python\n",
    "\n",
    "#### Exercises\n",
    "1. Write a python function encrypt_sentence(msg) which accepts a message and encrypts it based on rules below and return the encrypted message.\n",
    "    - Words at odd position -> Reverse it\n",
    "    - Words at even position -> Rearrange the characters\n",
    "    \n",
    "2. Write a Python program to find the number of characters present the given string\n",
    "3. Write a python program to find the numbers of words present in the given sentence\n",
    "4. Write a Python function words_count(sentence) to return a dictonary with the length of words as key and number words with such lenght as value\n",
    "5. Write a Python function lowel_count(sentence) to return a dictonary with vowels, consoants, others as key and respective numbers of vowerls, consonants, others characters as value.\n",
    "    note: Do case insensitive operations"
   ]
  },
  {
   "cell_type": "markdown",
   "id": "47acb108",
   "metadata": {},
   "source": [
    "Exercise 1"
   ]
  },
  {
   "cell_type": "code",
   "execution_count": 209,
   "id": "b2c7f491",
   "metadata": {},
   "outputs": [
    {
     "name": "stdout",
     "output_type": "stream",
     "text": [
      "eht snu sesir ni eht stea \n"
     ]
    }
   ],
   "source": [
    "def encrypt_sentence(msg):\n",
    "    msg = msg.split(\" \")\n",
    "    encrypt_message = \"\"\n",
    "    final_frase = \"\"\n",
    "    vows = [\"a\", \"e\", \"i\", \"o\", \"u\"]\n",
    "    for i, word in enumerate(msg):\n",
    "        if i%2 == 0:\n",
    "            word = word[::-1]\n",
    "        else:\n",
    "            temp_vows = []\n",
    "            temp_cons = []\n",
    "            for character in word:\n",
    "                if character in vows:\n",
    "                    temp_vows.append(character)\n",
    "                else:\n",
    "                    temp_cons.append(character)\n",
    "            word = \"\".join(temp_cons) + \"\".join(temp_vows)\n",
    "        final_frase =final_frase + \"\".join(word)\n",
    "        final_frase = final_frase + \" \"\n",
    "    return final_frase\n",
    "msg = \"the sun rises in the east\"\n",
    "\n",
    "results = encrypt_sentence(msg)\n",
    "print(results)"
   ]
  },
  {
   "cell_type": "code",
   "execution_count": 246,
   "id": "4d5ec0aa",
   "metadata": {},
   "outputs": [
    {
     "data": {
      "text/plain": [
       "11"
      ]
     },
     "execution_count": 246,
     "metadata": {},
     "output_type": "execute_result"
    }
   ],
   "source": [
    "import import_ipynb\n",
    "from pythonFunctions import charsCount\n",
    "\n",
    "charsCount(\"hello there\")"
   ]
  },
  {
   "cell_type": "code",
   "execution_count": 247,
   "id": "53addc56",
   "metadata": {},
   "outputs": [
    {
     "data": {
      "text/plain": [
       "2"
      ]
     },
     "execution_count": 247,
     "metadata": {},
     "output_type": "execute_result"
    }
   ],
   "source": [
    "from pythonFunctions import wordsCount\n",
    "\n",
    "wordsCount(\"hello there\")"
   ]
  },
  {
   "cell_type": "code",
   "execution_count": 296,
   "id": "132a5653",
   "metadata": {},
   "outputs": [
    {
     "name": "stdout",
     "output_type": "stream",
     "text": [
      "{1: 1, 2: 3, 3: 1, 4: 2, 5: 1, 6: 1}\n"
     ]
    }
   ],
   "source": [
    "sentence = \"I love python and it so easy to learn\"\n",
    "\n",
    "def words_count(sentence):\n",
    "    count_of_words = {}\n",
    "    chars_per_word = []\n",
    "    sentence = sentence.split(\" \")\n",
    "    for word in (sentence):\n",
    "        chars_per_word.append(len(word))\n",
    "    for word_count in (set(chars_per_word)):\n",
    "        count_of_words[word_count] = chars_per_word.count(word_count)\n",
    "    return count_of_words\n",
    "results = words_count(sentence)\n",
    "print(results)"
   ]
  },
  {
   "cell_type": "code",
   "execution_count": 302,
   "id": "7b3d77b2",
   "metadata": {},
   "outputs": [
    {
     "data": {
      "text/plain": [
       "{'vowels': 12, 'consonants': 17, 'others': 8}"
      ]
     },
     "execution_count": 302,
     "metadata": {},
     "output_type": "execute_result"
    }
   ],
   "source": [
    "def vowel_count(sentence):\n",
    "    sentence = sentence.lower()\n",
    "    vowel = 'aeiou'\n",
    "    consonant = 'bcdfghjklmnpqrstvwxyz'\n",
    "    vowel_count = 0\n",
    "    consonant_count = 0\n",
    "    others = 0\n",
    "    sentence_count = {}\n",
    "    for i in range(len(sentence)):\n",
    "        if sentence[i] in vowel:\n",
    "            vowel_count = vowel_count + 1\n",
    "        elif sentence[i] in consonant:\n",
    "            consonant_count = consonant_count + 1\n",
    "        else:\n",
    "            others = others + 1\n",
    "    sentence_count[\"vowels\"] = vowel_count\n",
    "    sentence_count[\"consonants\"] = consonant_count\n",
    "    sentence_count[\"others\"] = others\n",
    "    \n",
    "    return sentence_count\n",
    "\n",
    "results = vowel_count(sentence)\n",
    "results"
   ]
  },
  {
   "cell_type": "code",
   "execution_count": null,
   "id": "34784e61",
   "metadata": {},
   "outputs": [],
   "source": []
  },
  {
   "cell_type": "code",
   "execution_count": 307,
   "id": "7d09d5ef",
   "metadata": {},
   "outputs": [
    {
     "name": "stdout",
     "output_type": "stream",
     "text": [
      "[0, 0, 2, 6, 12]\n"
     ]
    }
   ],
   "source": [
    "my_list = [0]*5\n",
    "for index in range(1,5):\n",
    "    my_list[index] = (index-1) * index\n",
    "    \n",
    "print(my_list)"
   ]
  },
  {
   "cell_type": "code",
   "execution_count": 308,
   "id": "eb766771",
   "metadata": {},
   "outputs": [
    {
     "name": "stdout",
     "output_type": "stream",
     "text": [
      "[10, 8, 6, 4, 2]\n"
     ]
    }
   ],
   "source": [
    "def value(num1):\n",
    "    list1 = []\n",
    "    while num1 != 0:\n",
    "        if num1%2 == 0:\n",
    "            list1.append(num1)\n",
    "        else:\n",
    "            break\n",
    "        num1 -= 2\n",
    "    print(list1)\n",
    "value(10)"
   ]
  },
  {
   "cell_type": "code",
   "execution_count": 311,
   "id": "af81b0aa",
   "metadata": {},
   "outputs": [
    {
     "name": "stdout",
     "output_type": "stream",
     "text": [
      "sum finally\n",
      "invocation name error\n",
      "Invocation finally\n"
     ]
    }
   ],
   "source": [
    "def find_sum(a, b):\n",
    "    try:\n",
    "        print(a + c)\n",
    "    except ValueError:\n",
    "        print(\"Function name error\")\n",
    "    finally:\n",
    "        print(\"sum finally\")\n",
    "    \n",
    "try: \n",
    "    find_sum(12, 13)\n",
    "except NameError:\n",
    "    print(\"invocation name error\")\n",
    "finally:\n",
    "    print(\"Invocation finally\")"
   ]
  },
  {
   "cell_type": "code",
   "execution_count": 312,
   "id": "8d140ec2",
   "metadata": {},
   "outputs": [
    {
     "name": "stdout",
     "output_type": "stream",
     "text": [
      "10\n",
      "<class 'int'>\n"
     ]
    }
   ],
   "source": [
    "tuple1 = (10)\n",
    "print(tuple1)\n",
    "print(type(tuple1))"
   ]
  },
  {
   "cell_type": "code",
   "execution_count": 315,
   "id": "8b1fa9a2",
   "metadata": {},
   "outputs": [],
   "source": [
    "lista = [1,2,3]\n",
    "lista.insert(8,6)"
   ]
  },
  {
   "cell_type": "code",
   "execution_count": 318,
   "id": "45fa4545",
   "metadata": {},
   "outputs": [
    {
     "name": "stdout",
     "output_type": "stream",
     "text": [
      "0 1 2 3 4 5 6 7 8 "
     ]
    }
   ],
   "source": [
    "set_1 = {1,2,3,1,2,4,5,3,4,8,9,7,10}\n",
    "for index in range(len(set_1)):\n",
    "    print(index, end = \" \")"
   ]
  },
  {
   "cell_type": "code",
   "execution_count": 328,
   "id": "b97e181b",
   "metadata": {},
   "outputs": [
    {
     "name": "stdout",
     "output_type": "stream",
     "text": [
      "14\n"
     ]
    }
   ],
   "source": [
    "def sample(value):\n",
    "    sum1 = 0\n",
    "    for i in value:\n",
    "        \n",
    "        if i%2 != 0:\n",
    "            sum1 += value[i]\n",
    "        else:\n",
    "            \n",
    "            sum1 -= i\n",
    "    print(sum1)\n",
    "\n",
    "dict1 = {1:2, 2:4, 3:6, 5:8}\n",
    "sample(dict1)"
   ]
  },
  {
   "cell_type": "code",
   "execution_count": 329,
   "id": "a28f6885",
   "metadata": {},
   "outputs": [
    {
     "name": "stdout",
     "output_type": "stream",
     "text": [
      "before:  [10, 20, 30, 40, 50]\n",
      "inside func [10, 20, 30, 40, 50, 60, 70, 80]\n",
      "after [10, 20, 30, 40, 50]\n"
     ]
    }
   ],
   "source": [
    "def modify_list(arg_list):\n",
    "    arg_list = arg_list + [60,70,80]\n",
    "    print(\"inside func\", arg_list)\n",
    "    \n",
    "i_list = [10,20,30,40,50]\n",
    "print(\"before: \", i_list)\n",
    "modify_list(i_list)\n",
    "\n",
    "print(\"after\", i_list)"
   ]
  },
  {
   "cell_type": "code",
   "execution_count": null,
   "id": "ec184ef7",
   "metadata": {},
   "outputs": [],
   "source": []
  }
 ],
 "metadata": {
  "kernelspec": {
   "display_name": "Python 3 (ipykernel)",
   "language": "python",
   "name": "python3"
  },
  "language_info": {
   "codemirror_mode": {
    "name": "ipython",
    "version": 3
   },
   "file_extension": ".py",
   "mimetype": "text/x-python",
   "name": "python",
   "nbconvert_exporter": "python",
   "pygments_lexer": "ipython3",
   "version": "3.9.13"
  }
 },
 "nbformat": 4,
 "nbformat_minor": 5
}
