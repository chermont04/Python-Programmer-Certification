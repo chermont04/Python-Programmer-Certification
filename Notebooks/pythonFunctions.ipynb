{
 "cells": [
  {
   "cell_type": "code",
   "execution_count": 1,
   "id": "8a30dcd5",
   "metadata": {},
   "outputs": [],
   "source": [
    "def charsCount(string):\n",
    "    return(len(string))"
   ]
  },
  {
   "cell_type": "code",
   "execution_count": 2,
   "id": "d84df34f",
   "metadata": {},
   "outputs": [],
   "source": [
    "def wordsCount(sentence):\n",
    "    sentence = sentence.split(\" \")\n",
    "    return len(sentence)"
   ]
  },
  {
   "cell_type": "code",
   "execution_count": null,
   "id": "e1420e59",
   "metadata": {},
   "outputs": [],
   "source": []
  }
 ],
 "metadata": {
  "kernelspec": {
   "display_name": "Python 3 (ipykernel)",
   "language": "python",
   "name": "python3"
  },
  "language_info": {
   "codemirror_mode": {
    "name": "ipython",
    "version": 3
   },
   "file_extension": ".py",
   "mimetype": "text/x-python",
   "name": "python",
   "nbconvert_exporter": "python",
   "pygments_lexer": "ipython3",
   "version": "3.9.13"
  }
 },
 "nbformat": 4,
 "nbformat_minor": 5
}
